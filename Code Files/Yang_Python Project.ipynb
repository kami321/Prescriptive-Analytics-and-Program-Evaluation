{
 "cells": [
  {
   "cell_type": "markdown",
   "metadata": {},
   "source": [
    "Python Project - Marvel Mart Project    \n",
    "Yinhui Yang (Kami)    \n",
    "03/14/2021"
   ]
  },
  {
   "cell_type": "markdown",
   "metadata": {},
   "source": [
    "Question 1"
   ]
  },
  {
   "cell_type": "code",
   "execution_count": 2,
   "metadata": {},
   "outputs": [],
   "source": [
    "import csv\n",
    "import numpy as np\n",
    "import pandas as pd\n",
    "import seaborn as sns\n",
    "import matplotlib.pyplot as plt\n",
    "pd.set_option('display.float_format', lambda x: '%.3f' % x)"
   ]
  },
  {
   "cell_type": "markdown",
   "metadata": {},
   "source": [
    "Part 1: Cleaning the data"
   ]
  },
  {
   "cell_type": "code",
   "execution_count": 3,
   "metadata": {},
   "outputs": [
    {
     "name": "stdout",
     "output_type": "stream",
     "text": [
      "6\n",
      "0\n",
      "0\n",
      "5\n"
     ]
    }
   ],
   "source": [
    "df = pd.read_csv('DataSamples/MM_Sales.csv')\n",
    "df.head()\n",
    "\n",
    "# clean data and fill values with \"NULL\" \n",
    "df['Order Priority'].isnull()\n",
    "df['Order Priority'].fillna('NULL', inplace=True)\n",
    "# clean data and fill values with \"NULL\" \n",
    "print(df['Item Type'].isnull().sum())\n",
    "df['Item Type'].fillna('NULL', inplace=True)\n",
    "# clean data and replace values to string \"NULL\"\n",
    "print(df['Country'].isnull().sum())\n",
    "df['Country'] = df['Country'].apply(lambda x: x if isinstance(x, str) else \"NULL\")\n",
    "df['Country'].fillna(\"NULL\", inplace=True)\n",
    "# clean data and order id to numeric values, exception\n",
    "print(df['Order ID'].isnull().sum())\n",
    "df['Order ID'] = pd.to_numeric(df['Order ID'],errors='coerce')\n",
    "# clean data and replace numeric values to 0\n",
    "print(df['Order ID'].isnull().sum())\n",
    "df['Order ID'].fillna(0, inplace=True)"
   ]
  },
  {
   "cell_type": "code",
   "execution_count": 4,
   "metadata": {},
   "outputs": [],
   "source": [
    "#creat data copy\n",
    "dfClean = df.copy() "
   ]
  },
  {
   "cell_type": "code",
   "execution_count": 5,
   "metadata": {},
   "outputs": [],
   "source": [
    "#check data\n",
    "dfClean = dfClean[dfClean['Order Priority'] != 'NULL']\n",
    "dfClean = dfClean[dfClean['Item Type'] != 'NULL']\n",
    "dfClean = dfClean[dfClean['Country'] != 'NULL']\n",
    "dfClean = dfClean[dfClean['Order ID'] != 0]"
   ]
  },
  {
   "cell_type": "code",
   "execution_count": 6,
   "metadata": {},
   "outputs": [
    {
     "name": "stdout",
     "output_type": "stream",
     "text": [
      "0\n",
      "0\n",
      "0\n",
      "0\n"
     ]
    }
   ],
   "source": [
    "#check data and print \n",
    "print(dfClean['Order Priority'][dfClean['Order Priority'] == 'NULL'].count())\n",
    "print(dfClean['Item Type'][dfClean['Item Type'] == 'NULL'].count())\n",
    "print(dfClean['Country'][dfClean['Country'] == 'NULL'].count())\n",
    "print(dfClean['Order ID'][dfClean['Order ID'] == 0].count())\n",
    "\n",
    "dfClean.to_csv('MM_Sales_Clean..csv')"
   ]
  },
  {
   "cell_type": "code",
   "execution_count": 7,
   "metadata": {},
   "outputs": [],
   "source": [
    "# create a new clean data file\n",
    "DF_Clean = pd.read_csv('MM_Sales_Clean.csv')"
   ]
  },
  {
   "cell_type": "markdown",
   "metadata": {},
   "source": [
    "Part 2: General Statistics"
   ]
  },
  {
   "cell_type": "code",
   "execution_count": 34,
   "metadata": {},
   "outputs": [],
   "source": [
    "Rankingfile = open('MM_Rankings.txt', 'w')\n",
    "Rankingfile = open('MM_Rankings.txt', 'a+')"
   ]
  },
  {
   "cell_type": "markdown",
   "metadata": {},
   "source": [
    "Part 2 Q1"
   ]
  },
  {
   "cell_type": "code",
   "execution_count": 35,
   "metadata": {},
   "outputs": [],
   "source": [
    "countries = DF_Clean['Country']\n",
    "SalesCount = dict.fromkeys(countries, 0)\n",
    "\n",
    "# Country sale transactions count \n",
    "for country in countries:\n",
    "    SalesCount[country] += 1\n",
    "    \n",
    "# Countries of sales transaction count\n",
    "countriesCount = sorted(SalesCount, key=lambda x: SalesCount[x], reverse=True)\n",
    "# top 10 countries\n",
    "top10Countries = countriesCount[:10]\n",
    "# List of countries from Part 2 Q1.1.1\n",
    "countrylist = ['Trinidad and Tobago', 'Guinea', 'Maldives']\n",
    "\n",
    "# Shipping center build list for country \n",
    "for country in top10Countries:\n",
    "    if country not in countrylist:\n",
    "        countryBuildList = country\n",
    "        break\n",
    "        \n",
    "# Solution for Part 2 Q1.2\n",
    "print('Countries Most Sale Transactions:', file=Rankingfile)\n",
    "for country in top10Countries:\n",
    "    print(country + ': ' + str(SalesCount[country]), file=Rankingfile)\n",
    "print('The country we should build our shipping center is ' + countryBuildList + \\\n",
    "      ' because this is the country which we had the highest sales number for' + \\\n",
    "      'transactions and we do not have a shipping center at the current location.', file=Rankingfile)"
   ]
  },
  {
   "cell_type": "markdown",
   "metadata": {},
   "source": [
    "Part 2 Q2.1"
   ]
  },
  {
   "cell_type": "code",
   "execution_count": 31,
   "metadata": {},
   "outputs": [],
   "source": [
    "SC = DF_Clean['Sales Channel']\n",
    "dictSC_Count = dict.fromkeys(SC, 0)\n",
    "\n",
    "# Sale channels counts.\n",
    "for ch in SC:\n",
    "    dictSC_Count[ch] += 1\n",
    "    \n",
    "# solution write in to Randing file\n",
    "print('\\nSales Channel Order Count', file=Rankingfile)\n",
    "for ch in dictSC_Count:\n",
    "    print(ch + ': ' + str(dictSC_Count[ch]), file=Rankingfile)\n",
    "channelsCount = sorted(dictSC_Count, key=lambda x: dictSC_Count[x], reverse=True)\n",
    "print('We do more ' + channelsCount[0] + ' sales.', file=Rankingfile)"
   ]
  },
  {
   "cell_type": "markdown",
   "metadata": {},
   "source": [
    "Part 2 Sales Channel Pie chart"
   ]
  },
  {
   "cell_type": "code",
   "execution_count": 18,
   "metadata": {},
   "outputs": [
    {
     "name": "stdout",
     "output_type": "stream",
     "text": [
      "Sales Channel\n",
      "Offline    19788\n",
      "Online     30183\n",
      "Name: Sales Channel, dtype: int64\n"
     ]
    },
    {
     "data": {
      "image/png": "[encoded data removed]",
      "text/plain": [
       "<Figure size 720x720 with 1 Axes>"
      ]
     },
     "metadata": {},
     "output_type": "display_data"
    }
   ],
   "source": [
    "# chart value grouby and count from clean file\n",
    "channels = DF_Clean.groupby(['Sales Channel'])\n",
    "channelsCount = channels['Sales Channel'].count()\n",
    "\n",
    "print(channelsCount)\n",
    "\n",
    "plt.figure(figsize=(10, 10))\n",
    "plt.pie(channelsCount, labels=channelsCount.index, shadow=True, autopct='%.2f')\n",
    "plt.axis('equal')  \n",
    "plt.legend(loc=2, title='Sales Channel')\n",
    "plt.show()"
   ]
  },
  {
   "cell_type": "markdown",
   "metadata": {},
   "source": [
    "Part 2 Q2.2"
   ]
  },
  {
   "cell_type": "code",
   "execution_count": 32,
   "metadata": {},
   "outputs": [],
   "source": [
    "OP = DF_Clean['Order Priority']\n",
    "dictOP_Count = dict.fromkeys(OP, 0)\n",
    "\n",
    "# Order Priorities counts.\n",
    "for P in OP:\n",
    "    dictOP_Count[P] += 1\n",
    "    \n",
    "# Write in to Randing file\n",
    "print('\\nOrder Priority Count', file=Rankingfile)\n",
    "for P in dictOP_Count:\n",
    "    print(P + ': ' + str(dictOP_Count[P]), file=Rankingfile)\n",
    "OrderPriorityCount = sorted(dictOP_Count, key=lambda x: dictOP_Count[x], reverse=True)\n",
    "print('We do more ' + OrderPriorityCount[0] + ' order priorities.', file=Rankingfile)"
   ]
  },
  {
   "cell_type": "markdown",
   "metadata": {},
   "source": [
    "Part 2 Sales Channel Pie chart"
   ]
  },
  {
   "cell_type": "code",
   "execution_count": 20,
   "metadata": {},
   "outputs": [
    {
     "name": "stdout",
     "output_type": "stream",
     "text": [
      "Order Priority\n",
      "C     5012\n",
      "H    15094\n",
      "L     9984\n",
      "M    19881\n",
      "Name: Order Priority, dtype: int64\n"
     ]
    },
    {
     "data": {
      "image/png": "[encoded data removed]",
      "text/plain": [
       "<Figure size 720x720 with 1 Axes>"
      ]
     },
     "metadata": {},
     "output_type": "display_data"
    }
   ],
   "source": [
    "# chart value grouby and count from clean file\n",
    "Priorities = DF_Clean.groupby(['Order Priority'])\n",
    "OrderPriorityCount = Priorities['Order Priority'].count()\n",
    "\n",
    "print(OrderPriorityCount)\n",
    "\n",
    "plt.figure(figsize=(10, 10))\n",
    "plt.pie(OrderPriorityCount, labels=OrderPriorityCount.index, shadow=True, autopct='%.2f')\n",
    "plt.axis('equal')  \n",
    "plt.legend(loc=2, title='Order Priority')\n",
    "plt.show()"
   ]
  },
  {
   "cell_type": "markdown",
   "metadata": {},
   "source": [
    "Part 2 Boxplot of Total Profits DISTRIBUTION"
   ]
  },
  {
   "cell_type": "code",
   "execution_count": 21,
   "metadata": {},
   "outputs": [
    {
     "data": {
      "image/png": "[encoded data removed]",
      "text/plain": [
       "<Figure size 1296x360 with 1 Axes>"
      ]
     },
     "metadata": {
      "needs_background": "light"
     },
     "output_type": "display_data"
    }
   ],
   "source": [
    "import warnings\n",
    "warnings.simplefilter(action='ignore')\n",
    "# boxplot data from clean file\n",
    "plt.figure(figsize=(18, 5))\n",
    "ax = sns.boxplot(DF_Clean['Item Type'], DF_Clean['Total Profit'][0:50000])"
   ]
  },
  {
   "cell_type": "markdown",
   "metadata": {},
   "source": [
    "Part 2 Q3 2-3"
   ]
  },
  {
   "cell_type": "code",
   "execution_count": 22,
   "metadata": {},
   "outputs": [
    {
     "name": "stdout",
     "output_type": "stream",
     "text": [
      "Item Type\n",
      "Baby Food         1942865748.120\n",
      "Beverages          327559249.080\n",
      "Cereal            1824726412.290\n",
      "Clothes           1520832019.680\n",
      "Cosmetics         3638407966.750\n",
      "Fruits              51010570.920\n",
      "Household         3401180998.060\n",
      "Meat              1196342404.400\n",
      "Office Supplies   2605440187.500\n",
      "Personal Care      535250525.600\n",
      "Snacks            1149715758.720\n",
      "Vegetables        1322639660.240\n",
      "Name: Total Profit, dtype: float64\n"
     ]
    },
    {
     "data": {
      "image/png": "[encoded data removed]",
      "text/plain": [
       "<Figure size 1296x720 with 1 Axes>"
      ]
     },
     "metadata": {
      "needs_background": "light"
     },
     "output_type": "display_data"
    }
   ],
   "source": [
    "# value grouby and cum from clean file\n",
    "ItemType = DF_Clean.groupby(['Item Type'])\n",
    "TotalProfitSum = ItemType['Total Profit'].sum()\n",
    "\n",
    "print(TotalProfitSum)\n",
    "\n",
    "plt.figure(figsize=(18, 10))\n",
    "\n",
    "plt.bar(TotalProfitSum.index, TotalProfitSum.values)\n",
    "plt.title('MM Sales Total Profit by Item Type')\n",
    "plt.xlabel('Item Type')\n",
    "plt.ylabel('Total Profit')\n",
    "plt.show()"
   ]
  },
  {
   "cell_type": "markdown",
   "metadata": {},
   "source": [
    "Part 2 Q3 4"
   ]
  },
  {
   "cell_type": "code",
   "execution_count": 36,
   "metadata": {},
   "outputs": [
    {
     "name": "stdout",
     "output_type": "stream",
     "text": [
      "[('Cosmetics', 3638407966.75), ('Household', 3401180998.06), ('Office Supplies', 2605440187.5)]\n"
     ]
    }
   ],
   "source": [
    "# data relevance to Part 2 Q3 above.\n",
    "TotalProfitSum = {'Cosmetics': 3638407966.750,\n",
    "                  'Household': 3401180998.060,\n",
    "                  'Office Supplies': 2605440187.500,\n",
    "                  'Baby Food': 1942865748.120,\n",
    "                  'Cereal': 1824726412.290,\n",
    "                  'Clothes': 1520832019.680,\n",
    "                  'Vegetables': 1322639660.240,\n",
    "                  'Meat': 1196342404.400,\n",
    "                  'Snacks': 1149715758.720,\n",
    "                  'Personal Care': 535250525.600,\n",
    "                  'Beverages': 327559249.080,\n",
    "                  'Fruits': 51010570.920,}\n",
    "# Total profit sorted from Total profit sums.\n",
    "TotalProfitSorted = sorted(TotalProfitSum.items(), key=lambda x:'%.3f'%(1), reverse=True)\n",
    "# Top 3 Item Types from Total profit\n",
    "top3_ItemTypes = TotalProfitSorted[:3]\n",
    "print(top3_ItemTypes)\n",
    "#solution write in to Randing file\n",
    "with open('MM_Rankings.txt', 'a+') as writer:\n",
    "    writer.write('Item 1: Cosmetics\\n')\n",
    "    writer.write('Item 2: Household\\n')\n",
    "    writer.write('Item 3: Office Supplies\\n')\n",
    "    writer.write('We profited from Cosmetics the most.\\n')"
   ]
  },
  {
   "cell_type": "markdown",
   "metadata": {},
   "source": [
    "Part 2 Boxplot of Total Profits DISTRIBUTION Discusstion"
   ]
  },
  {
   "cell_type": "markdown",
   "metadata": {},
   "source": [
    "Boxplot is a standardized method for displaying data distribution based on five figures: minimum, first quartile, median, third quartile, and maximum. In the simplest Boxplot, the central rectangle spans from the first quartile to the third quartile. Segments in the rectangle show the middle value, and whiskers are displayed above and below the box, showing the positions of the minimum and maximum values. Accordingly, this boxplot image shows us the combinations with the Top 3 Total Profits by Item Type and the rectangle span are Cosmetic, Household, and Office Supplies. Segments in the rectangle show intermediate values of 0.9, 0.8, and 0.7, respectively."
   ]
  },
  {
   "cell_type": "markdown",
   "metadata": {},
   "source": [
    "Part 2 Q4 1"
   ]
  },
  {
   "cell_type": "code",
   "execution_count": 43,
   "metadata": {},
   "outputs": [
    {
     "name": "stdout",
     "output_type": "stream",
     "text": [
      "Sum of Units Sold: 249818150\n",
      "Sum of Units Cost: 9360768.320000002\n",
      "Sum of Total Revenue: 66145004417.17\n",
      "Sum of Total Cost: 46629032915.81\n",
      "Sum of Total Profit: 19515971501.36\n"
     ]
    }
   ],
   "source": [
    "# Sum of Units Sold, Unit Cost, Total Revenue, Total Cost, Total Profit\n",
    "UnitsSoldSum = DF_Clean['Units Sold'].sum()\n",
    "UnitCostSum = DF_Clean['Unit Cost'].sum()\n",
    "TotalRevenueSum = DF_Clean['Total Revenue'].sum()\n",
    "TotalCostSum = DF_Clean['Total Cost'].sum()\n",
    "TotalProfitSum = DF_Clean['Total Profit'].sum()\n",
    "\n",
    "print(f'Sum of Units Sold:', UnitsSoldSum)\n",
    "print(f'Sum of Units Cost:', UnitCostSum)\n",
    "print(f'Sum of Total Revenue:', TotalRevenueSum)\n",
    "print(f'Sum of Total Cost:', TotalCostSum)\n",
    "print(f'Sum of Total Profit:', TotalProfitSum)\n",
    "#solution write in to MM_Calc file\n",
    "with open('MM_Calc.txt', 'a+') as writer:\n",
    "    writer.write('Sums:\\n')\n",
    "    writer.write('Units Sold: 249818150\\n')\n",
    "    writer.write('Units Cost: 9360768.320000002\\n')\n",
    "    writer.write('Total Revenue: 66145004417.17\\n')\n",
    "    writer.write('Total Cost: 46629032915.81\\n')\n",
    "    writer.write('Total Profit: 19515971501.36\\n')"
   ]
  },
  {
   "cell_type": "markdown",
   "metadata": {},
   "source": [
    "Part 2 Q4 2"
   ]
  },
  {
   "cell_type": "code",
   "execution_count": 44,
   "metadata": {},
   "outputs": [
    {
     "name": "stdout",
     "output_type": "stream",
     "text": [
      "Average of Units Sold: 4999.262572291929\n",
      "Average of Units Cost: 187.32401432829784\n",
      "Average of Total Revenue: 1323667.8156764843\n",
      "Average of Total Cost: 933121.8690002197\n",
      "Average of Total Profit: 390545.94667627424\n"
     ]
    }
   ],
   "source": [
    "# Average for Units Sold, Unit Cost, Total Revenue, Total Cost, Total Profit\n",
    "UnitsSoldAverage = DF_Clean['Units Sold'].mean()\n",
    "UnitCostAverage = DF_Clean['Unit Cost'].mean()\n",
    "TotalRevenueAverage = DF_Clean['Total Revenue'].mean()\n",
    "TotalCostAverage = DF_Clean['Total Cost'].mean()\n",
    "TotalProfitAverage = DF_Clean['Total Profit'].mean()\n",
    "\n",
    "print(f'Average of Units Sold:', UnitsSoldAverage)\n",
    "print(f'Average of Units Cost:', UnitCostAverage)\n",
    "print(f'Average of Total Revenue:', TotalRevenueAverage)\n",
    "print(f'Average of Total Cost:', TotalCostAverage)\n",
    "print(f'Average of Total Profit:', TotalProfitAverage)\n",
    "#solution write in to MM_Calc file\n",
    "with open('MM_Calc.txt', 'a+') as writer:\n",
    "    writer.write('\\nAverages:\\n')\n",
    "    writer.write('Units Sold: 4999.262572291929\\n')\n",
    "    writer.write('Units Cost: 187.32401432829784\\n')\n",
    "    writer.write('Total Revenue: 1323667.8156764843\\n')\n",
    "    writer.write('Total Cost: 933121.8690002197\\n')\n",
    "    writer.write('Total Profit: 390545.94667627424\\n')"
   ]
  },
  {
   "cell_type": "markdown",
   "metadata": {},
   "source": [
    "Part 2 Q4 3"
   ]
  },
  {
   "cell_type": "code",
   "execution_count": 45,
   "metadata": {},
   "outputs": [
    {
     "name": "stdout",
     "output_type": "stream",
     "text": [
      "Maximum of Units Sold: 10000\n",
      "Maximum of Units Cost: 524.96\n",
      "Maximum of Total Revenue: 6682031.73\n",
      "Maximum of Total Cost: 5249075.04\n",
      "Maximum of Total Profit: 1738178.39\n"
     ]
    }
   ],
   "source": [
    "# Maximum Units Sold, Unit Cost, Total Revenue, Total Cost, Total Profit\n",
    "UnitsSoldMaximum = DF_Clean['Units Sold'].max()\n",
    "UnitCostMaximum = DF_Clean['Unit Cost'].max()\n",
    "TotalRevenueMaximum = DF_Clean['Total Revenue'].max()\n",
    "TotalCostMaximum = DF_Clean['Total Cost'].max()\n",
    "TotalProfitMaximum = DF_Clean['Total Profit'].max()\n",
    "\n",
    "print(f'Maximum of Units Sold:', UnitsSoldMaximum)\n",
    "print(f'Maximum of Units Cost:', UnitCostMaximum)\n",
    "print(f'Maximum of Total Revenue:', TotalRevenueMaximum)\n",
    "print(f'Maximum of Total Cost:', TotalCostMaximum)\n",
    "print(f'Maximum of Total Profit:', TotalProfitMaximum)\n",
    "#solution write in to MM_Calc file\n",
    "with open('MM_Calc.txt', 'a+') as writer:\n",
    "    writer.write('\\nMaximum:\\n')\n",
    "    writer.write('Units Sold: 10000\\n')\n",
    "    writer.write('Units Cost: 524.96\\n')\n",
    "    writer.write('Total Revenue: 6682031.73\\n')\n",
    "    writer.write('Total Cost: 5249075.04\\n')\n",
    "    writer.write('Total Profit: 1738178.39\\n')"
   ]
  },
  {
   "cell_type": "markdown",
   "metadata": {},
   "source": [
    "Part 2 Q4 4"
   ]
  },
  {
   "cell_type": "code",
   "execution_count": 53,
   "metadata": {},
   "outputs": [
    {
     "data": {
      "image/png": "[encoded data removed]",
      "text/plain": [
       "<Figure size 432x288 with 1 Axes>"
      ]
     },
     "metadata": {
      "needs_background": "light"
     },
     "output_type": "display_data"
    }
   ],
   "source": [
    "# Linepolt value input\n",
    "x=['Units Sold','Unit Cost','Total Revenue','Total Cost','Total Profit']\n",
    "y=[249818150, 9360768, 66145004417, 46629032915, 19515971501]\n",
    "\n",
    "w=[4999, 187, 1323667, 933122, 390546]\n",
    "w1=[10000, 525, 6682031, 5249075, 1738178]\n",
    "\n",
    "for i, xi in enumerate(x):\n",
    "    plt.plot(x,y, '-r')    \n",
    "\n",
    "plt.show()"
   ]
  },
  {
   "cell_type": "markdown",
   "metadata": {},
   "source": [
    "Part 3"
   ]
  },
  {
   "cell_type": "code",
   "execution_count": 54,
   "metadata": {},
   "outputs": [],
   "source": [
    "import warnings\n",
    "warnings.simplefilter(action='ignore')\n",
    "\n",
    "csv_file = \"Countries_By_Region.csv\"\n",
    "\n",
    "dictionary = {'Asia': ['Mongolia','Turkmenistan','Maldives','Laos','Sri Lanka','Bangladesh','Myanmar','China'\n",
    "                       'South Korea','Philippines','Kazakhstan','Taiwan','Bhutan','Malaysia',\n",
    "                       'Vietnam','Kyrgyzstan','Singapore','Japan','Uzbekistan','Brunei','Indonesia',\n",
    "                       'Cambodia','India','Tajikistan','Nepal','Thailand','North Korea'],\n",
    "              'Middle East and North Africa': ['Saudi Arabia','Oman','Israel','Morocco','Qatar',\n",
    "                                                'Algeria','Libya','Azerbaijan','Yemen','United Arab Emirates',\n",
    "                                                'Iraq','Egypt','Turkey','Iran','Kuwait','Lebanon','Bahrain',\n",
    "                                                'Jordan','Somalia','Pakistan','Syria','Afghanistan','Tunisia'],\n",
    "              'North America': ['United States of America','Canada','Mexico','Greenland'],\n",
    "              'Center America and the Caribbean': ['Jamaica','Panama','Belize','The Bahamas','Honduras','Grenada',\n",
    "                                                   'Barbados','Dominican Republic','Antigua and Barbuda','Guatemala',\n",
    "                                                   'Dominica','Saint Kitts and Nevis','Saint Lucia','Trinidad and Tobago',\n",
    "                                                   'Cuba','Saint Vincent and the Grenadines','Haiti','El Salcador',\n",
    "                                                   'Nicaragua','Costa Rica'],\n",
    "              'Sub-Saharan Africa': ['Angola','Benin','Botswana','Burkina Faso','Burundi','Cameroon','Cape Verde',\n",
    "                                     'Central African Republic','Chad','Comoros','Cote d‘Ivoire','Democratic Republic of the Congo'\n",
    "                                     'Djibouti','Equatorial Guinea','Eritrea','Ethiopia','Gabon','Ghana','Guinea','Guinea-Bissau'\n",
    "                                     'Kenya','Lesotho','Liberia','Madagascar','Malawi','Mali','Mauritania','Mauritius','Mozambique'\n",
    "                                     'Namibia','Niger','Nigeria','Republic of the Congo','Rwanda','Sao Tome and Principe'\n",
    "                                     'Senegal','Seychelles','Sierra Leone',\n",
    "South Africa\n",
    "South Sudan\n",
    "Sudan\n",
    "Swaziland\n",
    "Tanzania\n",
    "The Gambia\n",
    "Togo\n",
    "Uganda\n",
    "Zambia\n",
    "Zimbabwe],\n",
    "              'Australia and Oceania': ['Fiji','Palau','Australia','Marshall Islands','Federated States of Micronesia','East Timor',\n",
    "                                        'Samoa','New Zealand','Tuvalu','Nauru','Solomon Islands','Vanuatu','Kiribati','Paua New Guinea',\n",
    "                                        'Tonga'],\n",
    "              'Europe': ['Albania','Andorra','Armenia','Austria','Belarus','Belgium','Bosnia and Herzegovina','Bulgaria','Croatia'\n",
    "                         'Cyprus','Czech Republic','Denmark','Estonia','Finland','France','Georgia','Germany','Greece','Hungary',\n",
    "                         'Iceland','Ireland','Italy','Kosovo','Latvia','Liechtenstein','Lithuania','Luxembourg','Macedonia',\n",
    "                         'Malta','Moldova', 'Monaco','Montenegro','Netherlands','Norway','Poland','Portugal','Romania','Russia'\n",
    "                         'San Marino','Serbia','Slovakia','Slovenia','Spain','Sweden','Switzerland','Ukraine','United Kingdom',\n",
    "                         'Vatican City']}\n",
    "\n",
    "with open ('Countries_By_Region.csv','w+') as csv_file:\n",
    "    header = ['Asia','Middle East and North Africa','North America','Center America and the Caribbean','Sub-Saharan Africa','Australia and Oceania','Europe']\n",
    "    csv_writer = csv.DictWriter(csv_file,fieldnames=header)\n",
    "    csv_writer.writeheader()\n",
    "    csv_writer.writerow(dictionary) "
   ]
  },
  {
   "cell_type": "code",
   "execution_count": null,
   "metadata": {},
   "outputs": [],
   "source": []
  }
 ],
 "metadata": {
  "kernelspec": {
   "display_name": "Python 3",
   "language": "python",
   "name": "python3"
  },
  "language_info": {
   "codemirror_mode": {
    "name": "ipython",
    "version": 3
   },
   "file_extension": ".py",
   "mimetype": "text/x-python",
   "name": "python",
   "nbconvert_exporter": "python",
   "pygments_lexer": "ipython3",
   "version": "3.8.5"
  }
 },
 "nbformat": 4,
 "nbformat_minor": 4
}
